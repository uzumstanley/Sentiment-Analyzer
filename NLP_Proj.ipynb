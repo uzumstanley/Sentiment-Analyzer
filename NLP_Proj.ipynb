{
 "cells": [
  {
   "cell_type": "code",
   "execution_count": null,
   "id": "d7b939bd-f729-4593-86b3-85689ac9cac0",
   "metadata": {},
   "outputs": [],
   "source": [
    "#!pip install pandas"
   ]
  },
  {
   "cell_type": "code",
   "execution_count": null,
   "id": "316e07e6-7aef-4f6c-b246-02ea79f5b9b5",
   "metadata": {},
   "outputs": [],
   "source": [
    "# # Install contractions for expanding contractions in text e.g I'm to I am\n",
    "# !pip install contractions\n",
    "\n",
    "# # Install vader sentiment package for sentiment analysis\n",
    "# !pip install vaderSentiment\n",
    "\n",
    "# # Install textblob package for text processing and sentiment analysis\n",
    "# !pip install textblob\n",
    "\n",
    "# # Install WordCloud package for creating word cloud visualizations\n",
    "# !pip install wordcloud\n",
    "\n",
    "# # Install Contractions package for expanding contractions in text\n",
    "# !pip install contractions\n",
    "\n",
    "# # Install seaborn for data visualization\n",
    "# !pip install seaborn\n",
    "\n",
    "# # Install nltk for natural language processing tasks\n",
    "# import nltk\n",
    "# nltk.download(\"all\")  # Download all NLTK data\n",
    "# nltk.download(\"omw-1.4\")  # Download WordNet data\n",
    "# nltk.download('vader_Lexicon')  # Download VADER Lexicon for sentiment analysis\n",
    "\n",
    "# # Install scikit-learn for machine learning algorithms and tools\n",
    "# !pip install scikit-learn"
   ]
  },
  {
   "cell_type": "code",
   "execution_count": 1,
   "id": "7b6e8e2b",
   "metadata": {
    "colab": {
     "base_uri": "https://localhost:8080/"
    },
    "id": "7b6e8e2b",
    "outputId": "be8f6321-14e5-4a6d-d83d-b6a6d46c915f"
   },
   "outputs": [
    {
     "name": "stderr",
     "output_type": "stream",
     "text": [
      "[nltk_data] Downloading package omw-1.4 to\n",
      "[nltk_data]     C:\\Users\\USER\\AppData\\Roaming\\nltk_data...\n",
      "[nltk_data]   Package omw-1.4 is already up-to-date!\n"
     ]
    }
   ],
   "source": [
    "# To read and manipulate the data\n",
    "import pandas as pd\n",
    "pd.set_option('max_colwidth', None)\n",
    "# Help to extract the data using regular exprression\n",
    "import re\n",
    "#help to remove punctuation\n",
    "import string\n",
    "#importing the NLTK Library\n",
    "import nltk\n",
    "# Download the Open Multilingual WordNet data, which provides multilingual WordNet data.\n",
    "nltk.download(\"omw-1.4\")\n",
    "from nltk.corpus import stopwords\n",
    "#helps to visualize the wordcloud\n",
    "from wordcloud import WordCloud, STOPWORDS, ImageColorGenerator\n",
    "#used in stemming\n",
    "from nltk.stem.porter import PorterStemmer\n",
    "#used in lemmatization\n",
    "from nltk.stem import WordNetLemmatizer\n",
    "from sklearn.feature_extraction.text import CountVectorizer\n",
    "from sklearn.feature_extraction.text import TfidfVectorizer #for TF-IDf\n",
    "# to create train , test data\n",
    "from sklearn.model_selection import train_test_split\n",
    "from sklearn.ensemble import RandomForestClassifier\n",
    "from sklearn.metrics import accuracy_score, classification_report, confusion_matrix\n",
    "pd.set_option('max_colwidth',None)"
   ]
  },
  {
   "cell_type": "code",
   "execution_count": 2,
   "id": "2fb65f1f",
   "metadata": {
    "id": "2fb65f1f"
   },
   "outputs": [],
   "source": [
    "data = pd.read_csv(\"sentiment analysis data.csv\")"
   ]
  },
  {
   "cell_type": "markdown",
   "id": "E06P_Qrvu2Ek",
   "metadata": {
    "id": "E06P_Qrvu2Ek"
   },
   "source": [
    "#### Loading the dataset"
   ]
  },
  {
   "cell_type": "code",
   "execution_count": null,
   "id": "hOMWX3TNuxZA",
   "metadata": {
    "colab": {
     "base_uri": "https://localhost:8080/"
    },
    "id": "hOMWX3TNuxZA",
    "outputId": "79e129c5-3b39-49b4-d0c0-38d19307f65c"
   },
   "outputs": [],
   "source": [
    "# from google.colab import drive\n",
    "# drive.mount('/content/drive')\n",
    "\n",
    "# data = pd.read_csv(\"/content/drive/MyDrive/sentiment analysis data.csv\")"
   ]
  },
  {
   "cell_type": "code",
   "execution_count": 3,
   "id": "76ee2fd4",
   "metadata": {
    "id": "76ee2fd4"
   },
   "outputs": [],
   "source": [
    "df= data.copy()"
   ]
  },
  {
   "cell_type": "code",
   "execution_count": 4,
   "id": "8de73be3",
   "metadata": {
    "colab": {
     "base_uri": "https://localhost:8080/",
     "height": 223
    },
    "id": "8de73be3",
    "outputId": "b667a7ff-7881-4cf3-913e-fc7cd2a29677"
   },
   "outputs": [
    {
     "data": {
      "text/html": [
       "<div>\n",
       "<style scoped>\n",
       "    .dataframe tbody tr th:only-of-type {\n",
       "        vertical-align: middle;\n",
       "    }\n",
       "\n",
       "    .dataframe tbody tr th {\n",
       "        vertical-align: top;\n",
       "    }\n",
       "\n",
       "    .dataframe thead th {\n",
       "        text-align: right;\n",
       "    }\n",
       "</style>\n",
       "<table border=\"1\" class=\"dataframe\">\n",
       "  <thead>\n",
       "    <tr style=\"text-align: right;\">\n",
       "      <th></th>\n",
       "      <th>PhraseId</th>\n",
       "      <th>SentenceId</th>\n",
       "      <th>Phrase</th>\n",
       "      <th>Sentiment</th>\n",
       "      <th>Sent_count</th>\n",
       "    </tr>\n",
       "  </thead>\n",
       "  <tbody>\n",
       "    <tr>\n",
       "      <th>0</th>\n",
       "      <td>1</td>\n",
       "      <td>1</td>\n",
       "      <td>A series of escapades demonstrating the adage that what is good for the goose is also good for the gander , some of which occasionally amuses but none of which amounts to much of a story .</td>\n",
       "      <td>1</td>\n",
       "      <td>188</td>\n",
       "    </tr>\n",
       "    <tr>\n",
       "      <th>1</th>\n",
       "      <td>2</td>\n",
       "      <td>1</td>\n",
       "      <td>A series of escapades demonstrating the adage that what is good for the goose</td>\n",
       "      <td>2</td>\n",
       "      <td>77</td>\n",
       "    </tr>\n",
       "    <tr>\n",
       "      <th>2</th>\n",
       "      <td>3</td>\n",
       "      <td>1</td>\n",
       "      <td>A series</td>\n",
       "      <td>2</td>\n",
       "      <td>8</td>\n",
       "    </tr>\n",
       "    <tr>\n",
       "      <th>3</th>\n",
       "      <td>5</td>\n",
       "      <td>1</td>\n",
       "      <td>series</td>\n",
       "      <td>2</td>\n",
       "      <td>6</td>\n",
       "    </tr>\n",
       "    <tr>\n",
       "      <th>4</th>\n",
       "      <td>6</td>\n",
       "      <td>1</td>\n",
       "      <td>of escapades demonstrating the adage that what is good for the goose</td>\n",
       "      <td>2</td>\n",
       "      <td>68</td>\n",
       "    </tr>\n",
       "  </tbody>\n",
       "</table>\n",
       "</div>"
      ],
      "text/plain": [
       "   PhraseId  SentenceId  \\\n",
       "0         1           1   \n",
       "1         2           1   \n",
       "2         3           1   \n",
       "3         5           1   \n",
       "4         6           1   \n",
       "\n",
       "                                                                                                                                                                                         Phrase  \\\n",
       "0  A series of escapades demonstrating the adage that what is good for the goose is also good for the gander , some of which occasionally amuses but none of which amounts to much of a story .   \n",
       "1                                                                                                                 A series of escapades demonstrating the adage that what is good for the goose   \n",
       "2                                                                                                                                                                                      A series   \n",
       "3                                                                                                                                                                                        series   \n",
       "4                                                                                                                          of escapades demonstrating the adage that what is good for the goose   \n",
       "\n",
       "   Sentiment  Sent_count  \n",
       "0          1         188  \n",
       "1          2          77  \n",
       "2          2           8  \n",
       "3          2           6  \n",
       "4          2          68  "
      ]
     },
     "execution_count": 4,
     "metadata": {},
     "output_type": "execute_result"
    }
   ],
   "source": [
    "df.head()"
   ]
  },
  {
   "cell_type": "code",
   "execution_count": 5,
   "id": "b6c894c2",
   "metadata": {
    "colab": {
     "base_uri": "https://localhost:8080/"
    },
    "id": "b6c894c2",
    "outputId": "aff6b7da-de00-4a0b-c50f-2139c96683d4"
   },
   "outputs": [
    {
     "data": {
      "text/plain": [
       "8529"
      ]
     },
     "execution_count": 5,
     "metadata": {},
     "output_type": "execute_result"
    }
   ],
   "source": [
    "df['SentenceId'].nunique()"
   ]
  },
  {
   "cell_type": "code",
   "execution_count": 6,
   "id": "a90434eb",
   "metadata": {
    "id": "a90434eb"
   },
   "outputs": [],
   "source": [
    "df=df.loc[:,[\"Phrase\", \"Sentiment\"]]"
   ]
  },
  {
   "cell_type": "code",
   "execution_count": 7,
   "id": "b4e626fc",
   "metadata": {
    "colab": {
     "base_uri": "https://localhost:8080/"
    },
    "id": "b4e626fc",
    "outputId": "20d476c9-0402-4d96-991b-aa62256aa7be"
   },
   "outputs": [
    {
     "data": {
      "text/plain": [
       "array([1, 2, 3, 4, 0], dtype=int64)"
      ]
     },
     "execution_count": 7,
     "metadata": {},
     "output_type": "execute_result"
    }
   ],
   "source": [
    "df['Sentiment'].unique()"
   ]
  },
  {
   "cell_type": "code",
   "execution_count": 8,
   "id": "4389bc4b",
   "metadata": {
    "colab": {
     "base_uri": "https://localhost:8080/"
    },
    "id": "4389bc4b",
    "outputId": "84396814-9ef0-4525-959e-2bff6fa4ab53"
   },
   "outputs": [
    {
     "data": {
      "text/plain": [
       "(156015, 2)"
      ]
     },
     "execution_count": 8,
     "metadata": {},
     "output_type": "execute_result"
    }
   ],
   "source": [
    "df.shape"
   ]
  },
  {
   "cell_type": "code",
   "execution_count": 9,
   "id": "ea5790fd",
   "metadata": {
    "colab": {
     "base_uri": "https://localhost:8080/"
    },
    "id": "ea5790fd",
    "outputId": "747285d8-a51c-4658-bdfd-6b436f645b0f"
   },
   "outputs": [
    {
     "data": {
      "text/plain": [
       "Phrase       0\n",
       "Sentiment    0\n",
       "dtype: int64"
      ]
     },
     "execution_count": 9,
     "metadata": {},
     "output_type": "execute_result"
    }
   ],
   "source": [
    "#checking for null values\n",
    "df.isna().sum()"
   ]
  },
  {
   "cell_type": "code",
   "execution_count": 10,
   "id": "29c3e1ba",
   "metadata": {
    "colab": {
     "base_uri": "https://localhost:8080/"
    },
    "id": "29c3e1ba",
    "outputId": "0e69f46d-28e6-4502-dcb5-49fe4faffe70"
   },
   "outputs": [
    {
     "name": "stdout",
     "output_type": "stream",
     "text": [
      "<class 'pandas.core.frame.DataFrame'>\n",
      "RangeIndex: 156015 entries, 0 to 156014\n",
      "Data columns (total 2 columns):\n",
      " #   Column     Non-Null Count   Dtype \n",
      "---  ------     --------------   ----- \n",
      " 0   Phrase     156015 non-null  object\n",
      " 1   Sentiment  156015 non-null  int64 \n",
      "dtypes: int64(1), object(1)\n",
      "memory usage: 2.4+ MB\n"
     ]
    }
   ],
   "source": [
    "#info of data\n",
    "df.info()"
   ]
  },
  {
   "cell_type": "code",
   "execution_count": 11,
   "id": "3ac07454",
   "metadata": {
    "id": "3ac07454"
   },
   "outputs": [],
   "source": [
    "negative_reviews = df[df['Sentiment'] == 0]\n",
    "words = ' '.join(negative_reviews['Phrase'])\n",
    "cleaned_word = \" \".join([word for word in words.split()])\n"
   ]
  },
  {
   "cell_type": "code",
   "execution_count": 12,
   "id": "vzNFHqWVwP0P",
   "metadata": {
    "colab": {
     "base_uri": "https://localhost:8080/"
    },
    "id": "vzNFHqWVwP0P",
    "outputId": "bf2b3aa9-eca4-464a-f4c4-712da417d9aa"
   },
   "outputs": [
    {
     "data": {
      "text/plain": [
       "array([1, 2, 3, 4, 0], dtype=int64)"
      ]
     },
     "execution_count": 12,
     "metadata": {},
     "output_type": "execute_result"
    }
   ],
   "source": [
    "# Check the labels\n",
    "\n",
    "data[\"Sentiment\"].unique()"
   ]
  },
  {
   "cell_type": "code",
   "execution_count": 13,
   "id": "cebf5e17",
   "metadata": {
    "colab": {
     "base_uri": "https://localhost:8080/"
    },
    "id": "cebf5e17",
    "outputId": "291383c5-c95c-4581-add4-9c3faf957774"
   },
   "outputs": [
    {
     "data": {
      "text/plain": [
       "Sentiment\n",
       "2    79539\n",
       "3    32927\n",
       "1    27271\n",
       "4     9206\n",
       "0     7072\n",
       "Name: count, dtype: int64"
      ]
     },
     "execution_count": 13,
     "metadata": {},
     "output_type": "execute_result"
    }
   ],
   "source": [
    "df['Sentiment'].value_counts()"
   ]
  },
  {
   "cell_type": "code",
   "execution_count": 14,
   "id": "1vdyeBEVwZh-",
   "metadata": {
    "colab": {
     "base_uri": "https://localhost:8080/",
     "height": 449
    },
    "id": "1vdyeBEVwZh-",
    "outputId": "c6e9a020-4e6f-4e93-9447-66ff69f0a4a4"
   },
   "outputs": [
    {
     "data": {
      "image/png": "[encoded data removed]",
      "text/plain": [
       "<Figure size 640x480 with 1 Axes>"
      ]
     },
     "metadata": {},
     "output_type": "display_data"
    }
   ],
   "source": [
    "import seaborn as sns\n",
    "# Plot the distribution of the class label\n",
    "def bar_plot(data, feature):\n",
    "    # Creating the countplot\n",
    "    plot = sns.countplot(x = feature, data = data)\n",
    "\n",
    "    # Finding the length the whole data\n",
    "    total = len(data)\n",
    "\n",
    "    # Creating the percentages to each label in the data\n",
    "    for p in plot.patches:\n",
    "        percentage = '{:.1f}%'.format(100 * p.get_height()/total)\n",
    "        x = p.get_x() + p.get_width() / 2 - 0.05\n",
    "        y = p.get_y() + p.get_height()\n",
    "        plot.annotate(percentage, (x, y),ha=\"center\",\n",
    "            va = \"center\",\n",
    "            size = 12,\n",
    "            xytext = (0, 5),\n",
    "            textcoords = \"offset points\")\n",
    "    #plt.show()\n",
    "\n",
    "bar_plot(df,'Sentiment')"
   ]
  },
  {
   "cell_type": "markdown",
   "id": "UxgI3f_Zwqs9",
   "metadata": {
    "id": "UxgI3f_Zwqs9"
   },
   "source": [
    "- the two main classes are slightly balance; hence, there is no need for balancing\n",
    "\n",
    "- Let's select only the positive and negative classes for this project"
   ]
  },
  {
   "cell_type": "code",
   "execution_count": 15,
   "id": "Cd0oVQxgxHm0",
   "metadata": {
    "colab": {
     "base_uri": "https://localhost:8080/"
    },
    "id": "Cd0oVQxgxHm0",
    "outputId": "3ef7d399-9315-4516-ebba-715219cfdb32"
   },
   "outputs": [
    {
     "name": "stdout",
     "output_type": "stream",
     "text": [
      "                                                                        Phrase  \\\n",
      "60  This quiet , introspective and entertaining independent is worth seeking .   \n",
      "63                          quiet , introspective and entertaining independent   \n",
      "71                                                                entertaining   \n",
      "74                                                            is worth seeking   \n",
      "97                             would have a hard time sitting through this one   \n",
      "\n",
      "    Sentiment  \n",
      "60          1  \n",
      "63          1  \n",
      "71          1  \n",
      "74          1  \n",
      "97          0  \n"
     ]
    }
   ],
   "source": [
    "new_data = df[(df[\"Sentiment\"] == 0) | (df[\"Sentiment\"] == 4)].copy()\n",
    "\n",
    "# Map sentiment values to binary labels using .loc to avoid the SettingWithCopyWarning\n",
    "new_data.loc[:, \"Sentiment\"] = new_data[\"Sentiment\"].map({0: 0, 4: 1})\n",
    "\n",
    "# Check the first few rows of the new DataFrame\n",
    "print(new_data.head())"
   ]
  },
  {
   "cell_type": "code",
   "execution_count": 16,
   "id": "_dQzzbVsxfJ2",
   "metadata": {
    "colab": {
     "base_uri": "https://localhost:8080/"
    },
    "id": "_dQzzbVsxfJ2",
    "outputId": "38d244ea-2861-4134-d7c7-3d9387f7fd0d"
   },
   "outputs": [
    {
     "data": {
      "text/plain": [
       "(16278, 2)"
      ]
     },
     "execution_count": 16,
     "metadata": {},
     "output_type": "execute_result"
    }
   ],
   "source": [
    "new_data.shape"
   ]
  },
  {
   "cell_type": "code",
   "execution_count": 17,
   "id": "HSRS6FFXxqNX",
   "metadata": {
    "id": "HSRS6FFXxqNX"
   },
   "outputs": [],
   "source": [
    "new_data.reset_index(drop = True, inplace = True)"
   ]
  },
  {
   "cell_type": "markdown",
   "id": "c3312072",
   "metadata": {
    "id": "c3312072"
   },
   "source": [
    "\n",
    "### Test Pre-processing\n",
    "- Cleaning\n",
    "- Tokenization (Text segmentation)\n",
    "- Vectorization\n",
    "\n",
    "\n",
    "### Text Cleaning"
   ]
  },
  {
   "cell_type": "code",
   "execution_count": 18,
   "id": "9c857aa2",
   "metadata": {
    "colab": {
     "base_uri": "https://localhost:8080/",
     "height": 112
    },
    "id": "9c857aa2",
    "outputId": "c70a9075-8e66-488b-fa78-786d953ace94"
   },
   "outputs": [
    {
     "data": {
      "text/html": [
       "<div>\n",
       "<style scoped>\n",
       "    .dataframe tbody tr th:only-of-type {\n",
       "        vertical-align: middle;\n",
       "    }\n",
       "\n",
       "    .dataframe tbody tr th {\n",
       "        vertical-align: top;\n",
       "    }\n",
       "\n",
       "    .dataframe thead th {\n",
       "        text-align: right;\n",
       "    }\n",
       "</style>\n",
       "<table border=\"1\" class=\"dataframe\">\n",
       "  <thead>\n",
       "    <tr style=\"text-align: right;\">\n",
       "      <th></th>\n",
       "      <th>Phrase</th>\n",
       "      <th>Sentiment</th>\n",
       "    </tr>\n",
       "  </thead>\n",
       "  <tbody>\n",
       "    <tr>\n",
       "      <th>0</th>\n",
       "      <td>This quiet   introspective and entertaining independent is worth seeking</td>\n",
       "      <td>1</td>\n",
       "    </tr>\n",
       "    <tr>\n",
       "      <th>1</th>\n",
       "      <td>quiet   introspective and entertaining independent</td>\n",
       "      <td>1</td>\n",
       "    </tr>\n",
       "  </tbody>\n",
       "</table>\n",
       "</div>"
      ],
      "text/plain": [
       "                                                                       Phrase  \\\n",
       "0  This quiet   introspective and entertaining independent is worth seeking     \n",
       "1                          quiet   introspective and entertaining independent   \n",
       "\n",
       "   Sentiment  \n",
       "0          1  \n",
       "1          1  "
      ]
     },
     "execution_count": 18,
     "metadata": {},
     "output_type": "execute_result"
    }
   ],
   "source": [
    "# Removal of Special characters\n",
    "import re\n",
    "\n",
    "def remove_special_chars(text):\n",
    "    text = re.sub('[^a-zA-Z]',' ',text)  # Replace all non-alphabetic characters with a space\n",
    "    return text\n",
    "\n",
    "# Apply the remove_special_chars function to the \"Phrase\" column using lambda\n",
    "new_data[\"Phrase\"] = new_data[\"Phrase\"].apply(lambda x: remove_special_chars(x))\n",
    "new_data.head(2)"
   ]
  },
  {
   "cell_type": "code",
   "execution_count": null,
   "id": "SH9HKzsVzWqf",
   "metadata": {
    "id": "SH9HKzsVzWqf"
   },
   "outputs": [],
   "source": [
    "# 2. Removal of contractions\n",
    "#!pip install contractions"
   ]
  },
  {
   "cell_type": "code",
   "execution_count": 19,
   "id": "af24a279",
   "metadata": {
    "colab": {
     "base_uri": "https://localhost:8080/",
     "height": 112
    },
    "id": "af24a279",
    "outputId": "2eda90cf-4026-42ee-936a-636a9f6d5e7a"
   },
   "outputs": [
    {
     "data": {
      "text/html": [
       "<div>\n",
       "<style scoped>\n",
       "    .dataframe tbody tr th:only-of-type {\n",
       "        vertical-align: middle;\n",
       "    }\n",
       "\n",
       "    .dataframe tbody tr th {\n",
       "        vertical-align: top;\n",
       "    }\n",
       "\n",
       "    .dataframe thead th {\n",
       "        text-align: right;\n",
       "    }\n",
       "</style>\n",
       "<table border=\"1\" class=\"dataframe\">\n",
       "  <thead>\n",
       "    <tr style=\"text-align: right;\">\n",
       "      <th></th>\n",
       "      <th>Phrase</th>\n",
       "      <th>Sentiment</th>\n",
       "    </tr>\n",
       "  </thead>\n",
       "  <tbody>\n",
       "    <tr>\n",
       "      <th>0</th>\n",
       "      <td>This quiet introspective and entertaining independent is worth seeking</td>\n",
       "      <td>1</td>\n",
       "    </tr>\n",
       "    <tr>\n",
       "      <th>1</th>\n",
       "      <td>quiet introspective and entertaining independent</td>\n",
       "      <td>1</td>\n",
       "    </tr>\n",
       "  </tbody>\n",
       "</table>\n",
       "</div>"
      ],
      "text/plain": [
       "                                                                   Phrase  \\\n",
       "0  This quiet introspective and entertaining independent is worth seeking   \n",
       "1                        quiet introspective and entertaining independent   \n",
       "\n",
       "   Sentiment  \n",
       "0          1  \n",
       "1          1  "
      ]
     },
     "execution_count": 19,
     "metadata": {},
     "output_type": "execute_result"
    }
   ],
   "source": [
    "import contractions\n",
    "\n",
    "def remove_contractions(text):\n",
    "    expanded_text = [contractions.fix(word) for word in text.split()]\n",
    "    text = ' '.join(expanded_text)\n",
    "    return text\n",
    "\n",
    "\n",
    "new_data.loc[:, \"Phrase\"] = new_data[\"Phrase\"].apply(remove_contractions)\n",
    "\n",
    "# Check the first 2 rows of the DataFrame to verify changes\n",
    "new_data.head(2)"
   ]
  },
  {
   "cell_type": "code",
   "execution_count": 20,
   "id": "e60f3336",
   "metadata": {
    "colab": {
     "base_uri": "https://localhost:8080/",
     "height": 296
    },
    "id": "e60f3336",
    "outputId": "4c07fb75-83f5-4298-d3dd-d672d546c4eb"
   },
   "outputs": [
    {
     "name": "stderr",
     "output_type": "stream",
     "text": [
      "[nltk_data] Downloading package punkt to\n",
      "[nltk_data]     C:\\Users\\USER\\AppData\\Roaming\\nltk_data...\n",
      "[nltk_data]   Package punkt is already up-to-date!\n",
      "[nltk_data] Downloading package averaged_perceptron_tagger to\n",
      "[nltk_data]     C:\\Users\\USER\\AppData\\Roaming\\nltk_data...\n",
      "[nltk_data]   Package averaged_perceptron_tagger is already up-to-\n",
      "[nltk_data]       date!\n",
      "[nltk_data] Downloading package stopwords to\n",
      "[nltk_data]     C:\\Users\\USER\\AppData\\Roaming\\nltk_data...\n",
      "[nltk_data]   Package stopwords is already up-to-date!\n"
     ]
    }
   ],
   "source": [
    "# 3. Tokenization\n",
    "\n",
    "import os\n",
    "import nltk\n",
    "nltk.download('punkt')\n",
    "nltk.download('averaged_perceptron_tagger')\n",
    "nltk.download('stopwords')\n",
    "from nltk.corpus import stopwords\n",
    "from nltk.tokenize import word_tokenize, sent_tokenize\n",
    "from nltk.tag import pos_tag\n",
    "from nltk import word_tokenize\n",
    "\n",
    "new_data[\"Phrase\"] = new_data.apply(lambda row: word_tokenize(row[\"Phrase\"]), axis=1)"
   ]
  },
  {
   "cell_type": "code",
   "execution_count": 21,
   "id": "456f10ca",
   "metadata": {},
   "outputs": [
    {
     "data": {
      "text/html": [
       "<div>\n",
       "<style scoped>\n",
       "    .dataframe tbody tr th:only-of-type {\n",
       "        vertical-align: middle;\n",
       "    }\n",
       "\n",
       "    .dataframe tbody tr th {\n",
       "        vertical-align: top;\n",
       "    }\n",
       "\n",
       "    .dataframe thead th {\n",
       "        text-align: right;\n",
       "    }\n",
       "</style>\n",
       "<table border=\"1\" class=\"dataframe\">\n",
       "  <thead>\n",
       "    <tr style=\"text-align: right;\">\n",
       "      <th></th>\n",
       "      <th>Phrase</th>\n",
       "      <th>Sentiment</th>\n",
       "    </tr>\n",
       "  </thead>\n",
       "  <tbody>\n",
       "    <tr>\n",
       "      <th>0</th>\n",
       "      <td>[This, quiet, introspective, and, entertaining, independent, is, worth, seeking]</td>\n",
       "      <td>1</td>\n",
       "    </tr>\n",
       "    <tr>\n",
       "      <th>1</th>\n",
       "      <td>[quiet, introspective, and, entertaining, independent]</td>\n",
       "      <td>1</td>\n",
       "    </tr>\n",
       "    <tr>\n",
       "      <th>2</th>\n",
       "      <td>[entertaining]</td>\n",
       "      <td>1</td>\n",
       "    </tr>\n",
       "    <tr>\n",
       "      <th>3</th>\n",
       "      <td>[is, worth, seeking]</td>\n",
       "      <td>1</td>\n",
       "    </tr>\n",
       "  </tbody>\n",
       "</table>\n",
       "</div>"
      ],
      "text/plain": [
       "                                                                             Phrase  \\\n",
       "0  [This, quiet, introspective, and, entertaining, independent, is, worth, seeking]   \n",
       "1                            [quiet, introspective, and, entertaining, independent]   \n",
       "2                                                                    [entertaining]   \n",
       "3                                                              [is, worth, seeking]   \n",
       "\n",
       "   Sentiment  \n",
       "0          1  \n",
       "1          1  \n",
       "2          1  \n",
       "3          1  "
      ]
     },
     "execution_count": 21,
     "metadata": {},
     "output_type": "execute_result"
    }
   ],
   "source": [
    "# Check the first few rows of the DataFrame to verify changes\n",
    "new_data.head(4)"
   ]
  },
  {
   "cell_type": "code",
   "execution_count": 22,
   "id": "a2463c93",
   "metadata": {
    "colab": {
     "base_uri": "https://localhost:8080/",
     "height": 175
    },
    "id": "a2463c93",
    "outputId": "39bf9d10-775e-437f-8d7a-e03cf9d2ad24"
   },
   "outputs": [
    {
     "data": {
      "text/html": [
       "<div>\n",
       "<style scoped>\n",
       "    .dataframe tbody tr th:only-of-type {\n",
       "        vertical-align: middle;\n",
       "    }\n",
       "\n",
       "    .dataframe tbody tr th {\n",
       "        vertical-align: top;\n",
       "    }\n",
       "\n",
       "    .dataframe thead th {\n",
       "        text-align: right;\n",
       "    }\n",
       "</style>\n",
       "<table border=\"1\" class=\"dataframe\">\n",
       "  <thead>\n",
       "    <tr style=\"text-align: right;\">\n",
       "      <th></th>\n",
       "      <th>Phrase</th>\n",
       "      <th>Sentiment</th>\n",
       "    </tr>\n",
       "  </thead>\n",
       "  <tbody>\n",
       "    <tr>\n",
       "      <th>0</th>\n",
       "      <td>[this, quiet, introspective, and, entertaining, independent, is, worth, seeking]</td>\n",
       "      <td>1</td>\n",
       "    </tr>\n",
       "    <tr>\n",
       "      <th>1</th>\n",
       "      <td>[quiet, introspective, and, entertaining, independent]</td>\n",
       "      <td>1</td>\n",
       "    </tr>\n",
       "    <tr>\n",
       "      <th>2</th>\n",
       "      <td>[entertaining]</td>\n",
       "      <td>1</td>\n",
       "    </tr>\n",
       "    <tr>\n",
       "      <th>3</th>\n",
       "      <td>[is, worth, seeking]</td>\n",
       "      <td>1</td>\n",
       "    </tr>\n",
       "  </tbody>\n",
       "</table>\n",
       "</div>"
      ],
      "text/plain": [
       "                                                                             Phrase  \\\n",
       "0  [this, quiet, introspective, and, entertaining, independent, is, worth, seeking]   \n",
       "1                            [quiet, introspective, and, entertaining, independent]   \n",
       "2                                                                    [entertaining]   \n",
       "3                                                              [is, worth, seeking]   \n",
       "\n",
       "   Sentiment  \n",
       "0          1  \n",
       "1          1  \n",
       "2          1  \n",
       "3          1  "
      ]
     },
     "execution_count": 22,
     "metadata": {},
     "output_type": "execute_result"
    }
   ],
   "source": [
    "# 4. Lowercasing\n",
    "def to_lowercase(words):\n",
    "    word = [word.lower() for word in words]\n",
    "    return word\n",
    "\n",
    "new_data[\"Phrase\"] = new_data[\"Phrase\"].apply(lambda x: to_lowercase(x))\n",
    "new_data.head(4)"
   ]
  },
  {
   "cell_type": "code",
   "execution_count": 23,
   "id": "d6a6a742",
   "metadata": {
    "colab": {
     "base_uri": "https://localhost:8080/",
     "height": 175
    },
    "id": "d6a6a742",
    "outputId": "6e299a9f-676a-41a3-a2de-5b88aacad9c9"
   },
   "outputs": [
    {
     "data": {
      "text/html": [
       "<div>\n",
       "<style scoped>\n",
       "    .dataframe tbody tr th:only-of-type {\n",
       "        vertical-align: middle;\n",
       "    }\n",
       "\n",
       "    .dataframe tbody tr th {\n",
       "        vertical-align: top;\n",
       "    }\n",
       "\n",
       "    .dataframe thead th {\n",
       "        text-align: right;\n",
       "    }\n",
       "</style>\n",
       "<table border=\"1\" class=\"dataframe\">\n",
       "  <thead>\n",
       "    <tr style=\"text-align: right;\">\n",
       "      <th></th>\n",
       "      <th>Phrase</th>\n",
       "      <th>Sentiment</th>\n",
       "    </tr>\n",
       "  </thead>\n",
       "  <tbody>\n",
       "    <tr>\n",
       "      <th>0</th>\n",
       "      <td>[quiet, introspective, entertaining, independent, worth, seeking]</td>\n",
       "      <td>1</td>\n",
       "    </tr>\n",
       "    <tr>\n",
       "      <th>1</th>\n",
       "      <td>[quiet, introspective, entertaining, independent]</td>\n",
       "      <td>1</td>\n",
       "    </tr>\n",
       "    <tr>\n",
       "      <th>2</th>\n",
       "      <td>[entertaining]</td>\n",
       "      <td>1</td>\n",
       "    </tr>\n",
       "    <tr>\n",
       "      <th>3</th>\n",
       "      <td>[worth, seeking]</td>\n",
       "      <td>1</td>\n",
       "    </tr>\n",
       "  </tbody>\n",
       "</table>\n",
       "</div>"
      ],
      "text/plain": [
       "                                                              Phrase  \\\n",
       "0  [quiet, introspective, entertaining, independent, worth, seeking]   \n",
       "1                  [quiet, introspective, entertaining, independent]   \n",
       "2                                                     [entertaining]   \n",
       "3                                                   [worth, seeking]   \n",
       "\n",
       "   Sentiment  \n",
       "0          1  \n",
       "1          1  \n",
       "2          1  \n",
       "3          1  "
      ]
     },
     "execution_count": 23,
     "metadata": {},
     "output_type": "execute_result"
    }
   ],
   "source": [
    "# 5. Removal of Stopwords\n",
    "\n",
    "from nltk.corpus import stopwords\n",
    "stop_words= stopwords.words(\"english\")\n",
    "def remove_stopwords(words):\n",
    "    word = [word for word in words if word not in stop_words]\n",
    "    return word\n",
    "\n",
    "# Apply the function\n",
    "new_data[\"Phrase\"] = new_data[\"Phrase\"].apply(lambda x: remove_stopwords(x))\n",
    "\n",
    "new_data.head(4)"
   ]
  },
  {
   "cell_type": "code",
   "execution_count": 24,
   "id": "qnn0lXhe1IfN",
   "metadata": {
    "colab": {
     "base_uri": "https://localhost:8080/",
     "height": 192
    },
    "id": "qnn0lXhe1IfN",
    "outputId": "2d265132-6e8b-4754-80b0-8d69a1003668"
   },
   "outputs": [
    {
     "name": "stderr",
     "output_type": "stream",
     "text": [
      "[nltk_data] Downloading package wordnet to\n",
      "[nltk_data]     C:\\Users\\USER\\AppData\\Roaming\\nltk_data...\n",
      "[nltk_data]   Package wordnet is already up-to-date!\n"
     ]
    }
   ],
   "source": [
    "# 6. Lemmatization\n",
    "\n",
    "nltk.download(\"wordnet\")\n",
    "# using lemmatization\n",
    "lm= WordNetLemmatizer()\n",
    "def lemmatize_words(words):\n",
    "    word=[lm.lemmatize(word) for word in words]\n",
    "    return word\n",
    "\n",
    "new_data[\"Phrase\"] = new_data[\"Phrase\"].apply(lambda x: lemmatize_words(x))"
   ]
  },
  {
   "cell_type": "code",
   "execution_count": 25,
   "id": "09ae0194",
   "metadata": {},
   "outputs": [
    {
     "data": {
      "text/html": [
       "<div>\n",
       "<style scoped>\n",
       "    .dataframe tbody tr th:only-of-type {\n",
       "        vertical-align: middle;\n",
       "    }\n",
       "\n",
       "    .dataframe tbody tr th {\n",
       "        vertical-align: top;\n",
       "    }\n",
       "\n",
       "    .dataframe thead th {\n",
       "        text-align: right;\n",
       "    }\n",
       "</style>\n",
       "<table border=\"1\" class=\"dataframe\">\n",
       "  <thead>\n",
       "    <tr style=\"text-align: right;\">\n",
       "      <th></th>\n",
       "      <th>Phrase</th>\n",
       "      <th>Sentiment</th>\n",
       "    </tr>\n",
       "  </thead>\n",
       "  <tbody>\n",
       "    <tr>\n",
       "      <th>0</th>\n",
       "      <td>[quiet, introspective, entertaining, independent, worth, seeking]</td>\n",
       "      <td>1</td>\n",
       "    </tr>\n",
       "    <tr>\n",
       "      <th>1</th>\n",
       "      <td>[quiet, introspective, entertaining, independent]</td>\n",
       "      <td>1</td>\n",
       "    </tr>\n",
       "    <tr>\n",
       "      <th>2</th>\n",
       "      <td>[entertaining]</td>\n",
       "      <td>1</td>\n",
       "    </tr>\n",
       "    <tr>\n",
       "      <th>3</th>\n",
       "      <td>[worth, seeking]</td>\n",
       "      <td>1</td>\n",
       "    </tr>\n",
       "  </tbody>\n",
       "</table>\n",
       "</div>"
      ],
      "text/plain": [
       "                                                              Phrase  \\\n",
       "0  [quiet, introspective, entertaining, independent, worth, seeking]   \n",
       "1                  [quiet, introspective, entertaining, independent]   \n",
       "2                                                     [entertaining]   \n",
       "3                                                   [worth, seeking]   \n",
       "\n",
       "   Sentiment  \n",
       "0          1  \n",
       "1          1  \n",
       "2          1  \n",
       "3          1  "
      ]
     },
     "execution_count": 25,
     "metadata": {},
     "output_type": "execute_result"
    }
   ],
   "source": [
    "new_data.head(4)"
   ]
  },
  {
   "cell_type": "markdown",
   "id": "46d038a7",
   "metadata": {
    "id": "46d038a7"
   },
   "source": [
    "## Putting all together"
   ]
  },
  {
   "cell_type": "code",
   "execution_count": 26,
   "id": "c4961519",
   "metadata": {
    "id": "c4961519"
   },
   "outputs": [],
   "source": [
    "def join_words(row):\n",
    "    words = \" \".join([word for word in row])\n",
    "    return words\n",
    "new_data[\"Phrase\"] = new_data[\"Phrase\"].apply(lambda x: join_words(x))\n"
   ]
  },
  {
   "cell_type": "code",
   "execution_count": 27,
   "id": "bf236d64",
   "metadata": {
    "colab": {
     "base_uri": "https://localhost:8080/",
     "height": 143
    },
    "id": "bf236d64",
    "outputId": "bc1de7b4-9399-45ca-befd-d295e4bcff08"
   },
   "outputs": [
    {
     "data": {
      "text/html": [
       "<div>\n",
       "<style scoped>\n",
       "    .dataframe tbody tr th:only-of-type {\n",
       "        vertical-align: middle;\n",
       "    }\n",
       "\n",
       "    .dataframe tbody tr th {\n",
       "        vertical-align: top;\n",
       "    }\n",
       "\n",
       "    .dataframe thead th {\n",
       "        text-align: right;\n",
       "    }\n",
       "</style>\n",
       "<table border=\"1\" class=\"dataframe\">\n",
       "  <thead>\n",
       "    <tr style=\"text-align: right;\">\n",
       "      <th></th>\n",
       "      <th>Phrase</th>\n",
       "      <th>Sentiment</th>\n",
       "    </tr>\n",
       "  </thead>\n",
       "  <tbody>\n",
       "    <tr>\n",
       "      <th>0</th>\n",
       "      <td>quiet introspective entertaining independent worth seeking</td>\n",
       "      <td>1</td>\n",
       "    </tr>\n",
       "    <tr>\n",
       "      <th>1</th>\n",
       "      <td>quiet introspective entertaining independent</td>\n",
       "      <td>1</td>\n",
       "    </tr>\n",
       "    <tr>\n",
       "      <th>2</th>\n",
       "      <td>entertaining</td>\n",
       "      <td>1</td>\n",
       "    </tr>\n",
       "  </tbody>\n",
       "</table>\n",
       "</div>"
      ],
      "text/plain": [
       "                                                       Phrase  Sentiment\n",
       "0  quiet introspective entertaining independent worth seeking          1\n",
       "1                quiet introspective entertaining independent          1\n",
       "2                                                entertaining          1"
      ]
     },
     "execution_count": 27,
     "metadata": {},
     "output_type": "execute_result"
    }
   ],
   "source": [
    "new_data.head(3)"
   ]
  },
  {
   "cell_type": "code",
   "execution_count": null,
   "id": "d12d44e4-9035-4e8e-a340-fd0b79b02734",
   "metadata": {},
   "outputs": [],
   "source": [
    "# #new_data.to_csv(\"clean_data.csv\", index=False) \n",
    "# #loading the data\n",
    "# data=pd.read_csv(\"clean_data.csv\")"
   ]
  },
  {
   "cell_type": "code",
   "execution_count": null,
   "id": "8a3f62cc-e5ef-4220-96c0-dc2059c8513b",
   "metadata": {},
   "outputs": [],
   "source": [
    "#new data as one empty string\n",
    "#the empty string on new data was coonverted to a missing value while saving the data hence it has to be droppped"
   ]
  },
  {
   "cell_type": "code",
   "execution_count": null,
   "id": "7638f7f1-fcd9-40a7-a3f6-9e9ff145530c",
   "metadata": {},
   "outputs": [],
   "source": [
    "# data=data.dropna()"
   ]
  },
  {
   "cell_type": "markdown",
   "id": "5VI3xyfr3eQ8",
   "metadata": {
    "id": "5VI3xyfr3eQ8"
   },
   "source": [
    "# Model Deployment\n",
    "\n",
    "- Classical Machine Learning; e.g Random Forest\n",
    "- Deep Learning: e.g.LSTM , BERT"
   ]
  },
  {
   "cell_type": "markdown",
   "id": "oAZlzJF83t2f",
   "metadata": {
    "id": "oAZlzJF83t2f"
   },
   "source": [
    "## Deploying the NLP model using Random Forest\n",
    "- Here we can either use Bag of Word, TD-IDF or GloVe as our vectorizer"
   ]
  },
  {
   "cell_type": "code",
   "execution_count": 28,
   "id": "ixkUoGne3sso",
   "metadata": {
    "id": "ixkUoGne3sso"
   },
   "outputs": [],
   "source": [
    "# Using Bag of words\n",
    "\n",
    "from sklearn.feature_extraction.text import CountVectorizer\n",
    "\n",
    "#Keep only 500 features as number of features will increase the processing time.\n",
    "count_vector = CountVectorizer(max_features=500)\n",
    "text_data = count_vector.fit_transform(new_data[\"Phrase\"])\n",
    "\n",
    "#Convert the data features to array\n",
    "text_data= text_data.toarray()"
   ]
  },
  {
   "cell_type": "code",
   "execution_count": 29,
   "id": "80b55699-640f-499c-8351-2c90383a564d",
   "metadata": {},
   "outputs": [
    {
     "data": {
      "text/html": [
       "<div>\n",
       "<style scoped>\n",
       "    .dataframe tbody tr th:only-of-type {\n",
       "        vertical-align: middle;\n",
       "    }\n",
       "\n",
       "    .dataframe tbody tr th {\n",
       "        vertical-align: top;\n",
       "    }\n",
       "\n",
       "    .dataframe thead th {\n",
       "        text-align: right;\n",
       "    }\n",
       "</style>\n",
       "<table border=\"1\" class=\"dataframe\">\n",
       "  <thead>\n",
       "    <tr style=\"text-align: right;\">\n",
       "      <th></th>\n",
       "      <th>PhraseId</th>\n",
       "      <th>SentenceId</th>\n",
       "      <th>Phrase</th>\n",
       "      <th>Sentiment</th>\n",
       "      <th>Sent_count</th>\n",
       "    </tr>\n",
       "  </thead>\n",
       "  <tbody>\n",
       "    <tr>\n",
       "      <th>0</th>\n",
       "      <td>1</td>\n",
       "      <td>1</td>\n",
       "      <td>A series of escapades demonstrating the adage that what is good for the goose is also good for the gander , some of which occasionally amuses but none of which amounts to much of a story .</td>\n",
       "      <td>1</td>\n",
       "      <td>188</td>\n",
       "    </tr>\n",
       "    <tr>\n",
       "      <th>1</th>\n",
       "      <td>2</td>\n",
       "      <td>1</td>\n",
       "      <td>A series of escapades demonstrating the adage that what is good for the goose</td>\n",
       "      <td>2</td>\n",
       "      <td>77</td>\n",
       "    </tr>\n",
       "    <tr>\n",
       "      <th>2</th>\n",
       "      <td>3</td>\n",
       "      <td>1</td>\n",
       "      <td>A series</td>\n",
       "      <td>2</td>\n",
       "      <td>8</td>\n",
       "    </tr>\n",
       "    <tr>\n",
       "      <th>3</th>\n",
       "      <td>5</td>\n",
       "      <td>1</td>\n",
       "      <td>series</td>\n",
       "      <td>2</td>\n",
       "      <td>6</td>\n",
       "    </tr>\n",
       "    <tr>\n",
       "      <th>4</th>\n",
       "      <td>6</td>\n",
       "      <td>1</td>\n",
       "      <td>of escapades demonstrating the adage that what is good for the goose</td>\n",
       "      <td>2</td>\n",
       "      <td>68</td>\n",
       "    </tr>\n",
       "  </tbody>\n",
       "</table>\n",
       "</div>"
      ],
      "text/plain": [
       "   PhraseId  SentenceId  \\\n",
       "0         1           1   \n",
       "1         2           1   \n",
       "2         3           1   \n",
       "3         5           1   \n",
       "4         6           1   \n",
       "\n",
       "                                                                                                                                                                                         Phrase  \\\n",
       "0  A series of escapades demonstrating the adage that what is good for the goose is also good for the gander , some of which occasionally amuses but none of which amounts to much of a story .   \n",
       "1                                                                                                                 A series of escapades demonstrating the adage that what is good for the goose   \n",
       "2                                                                                                                                                                                      A series   \n",
       "3                                                                                                                                                                                        series   \n",
       "4                                                                                                                          of escapades demonstrating the adage that what is good for the goose   \n",
       "\n",
       "   Sentiment  Sent_count  \n",
       "0          1         188  \n",
       "1          2          77  \n",
       "2          2           8  \n",
       "3          2           6  \n",
       "4          2          68  "
      ]
     },
     "execution_count": 29,
     "metadata": {},
     "output_type": "execute_result"
    }
   ],
   "source": [
    "data.head()"
   ]
  },
  {
   "cell_type": "code",
   "execution_count": 30,
   "id": "aKt4ORCf4Z5D",
   "metadata": {
    "id": "aKt4ORCf4Z5D"
   },
   "outputs": [],
   "source": [
    "# Select the features and target\n",
    "X = text_data\n",
    "y = new_data[\"Sentiment\"]"
   ]
  },
  {
   "cell_type": "code",
   "execution_count": 31,
   "id": "EfiwBIIJ4i9-",
   "metadata": {
    "id": "EfiwBIIJ4i9-"
   },
   "outputs": [],
   "source": [
    "# Data splitting\n",
    "from sklearn.model_selection import train_test_split\n",
    "X_train, X_test, y_train, y_test = train_test_split(X, y, test_size = 0.2, random_state = 2)"
   ]
  },
  {
   "cell_type": "code",
   "execution_count": 32,
   "id": "ER10j0og4wxd",
   "metadata": {
    "id": "ER10j0og4wxd"
   },
   "outputs": [],
   "source": [
    "# training the model\n",
    "Random_forest = RandomForestClassifier(random_state = 0)\n",
    "\n",
    "# train the model\n",
    "Random_forest.fit(X_train, y_train)\n",
    "\n",
    "# make predictions on the test data\n",
    "y_pred = Random_forest.predict(X_test)"
   ]
  },
  {
   "cell_type": "markdown",
   "id": "-vQ51S8G5K-m",
   "metadata": {
    "id": "-vQ51S8G5K-m"
   },
   "source": [
    "#####  Model Evaluation"
   ]
  },
  {
   "cell_type": "code",
   "execution_count": 33,
   "id": "v8y09Nrx5BP1",
   "metadata": {
    "colab": {
     "base_uri": "https://localhost:8080/",
     "height": 621
    },
    "id": "v8y09Nrx5BP1",
    "outputId": "211ccfc5-385b-4976-ee32-9a8889852203"
   },
   "outputs": [
    {
     "name": "stdout",
     "output_type": "stream",
     "text": [
      "              precision    recall  f1-score   support\n",
      "\n",
      "           0       0.82      0.91      0.86      1424\n",
      "           1       0.92      0.85      0.88      1832\n",
      "\n",
      "    accuracy                           0.87      3256\n",
      "   macro avg       0.87      0.88      0.87      3256\n",
      "weighted avg       0.88      0.87      0.87      3256\n",
      "\n"
     ]
    },
    {
     "data": {
      "image/png": "[encoded data removed]",
      "text/plain": [
       "<Figure size 800x500 with 2 Axes>"
      ]
     },
     "metadata": {},
     "output_type": "display_data"
    }
   ],
   "source": [
    "# defining a function to check model performance\n",
    "# Function to print the classification report and get confusion matrix in a proper format\n",
    "\n",
    "import matplotlib.pyplot as plt\n",
    "\n",
    "def classification_evaluation(actual, predicted):\n",
    "    print(classification_report(actual, predicted))\n",
    "    cm = confusion_matrix(actual, predicted)\n",
    "    plt.figure(figsize = (8, 5))\n",
    "    sns.heatmap(cm, annot = True,  fmt = '.2f', xticklabels = ['negative', 'positive'], yticklabels = ['negative', 'positive'])\n",
    "    plt.ylabel('Actual')\n",
    "    plt.xlabel('Predicted')\n",
    "    plt.show()\n",
    "\n",
    "\n",
    "# check metrics\n",
    "classification_evaluation(y_test, y_pred)"
   ]
  },
  {
   "cell_type": "markdown",
   "id": "ek5PzJw35txA",
   "metadata": {
    "id": "ek5PzJw35txA"
   },
   "source": []
  },
  {
   "cell_type": "markdown",
   "id": "hO8S9QDw5-8W",
   "metadata": {
    "id": "hO8S9QDw5-8W"
   },
   "source": [
    "- 1290 negative sentiments were correctly predicted as negative sentiments\n",
    "- 1557 positive sentiments were correctly predicted\n",
    "- 124 negative sentiments were wrongly predicted as positive sentiments\n",
    "- 279 positive sentiments were wrongly predicted as negative sentiments\n",
    "\n",
    "- Other sophisticated classical machine learning models such as XGBoost, could be investigated in future studies."
   ]
  },
  {
   "cell_type": "markdown",
   "id": "2303ff9c",
   "metadata": {
    "id": "2303ff9c"
   },
   "source": [
    "# Deep Learning\n",
    "\n",
    "## Sequential LSTM Model"
   ]
  },
  {
   "cell_type": "code",
   "execution_count": null,
   "id": "LAAcoDWe2OoZ",
   "metadata": {
    "id": "LAAcoDWe2OoZ"
   },
   "outputs": [],
   "source": [
    "#!pip install tensorflow"
   ]
  },
  {
   "cell_type": "code",
   "execution_count": 34,
   "id": "f3fdb628",
   "metadata": {
    "id": "f3fdb628"
   },
   "outputs": [
    {
     "name": "stdout",
     "output_type": "stream",
     "text": [
      "WARNING:tensorflow:From C:\\Users\\USER\\anaconda3\\envs\\nlp\\lib\\site-packages\\keras\\src\\losses.py:2976: The name tf.losses.sparse_softmax_cross_entropy is deprecated. Please use tf.compat.v1.losses.sparse_softmax_cross_entropy instead.\n",
      "\n"
     ]
    }
   ],
   "source": [
    "from sklearn.model_selection import train_test_split #imports traintest split function to split the dataset\n",
    "import tensorflow as tf#imported framework for deep learning training\n",
    "from tensorflow.keras import layers, models #provides interface for building and training a model\n",
    "from tensorflow.keras.callbacks import EarlyStopping, ModelCheckpoint\n",
    "from sklearn.metrics import accuracy_score, precision_score, recall_score, f1_score#imports classification metrics\n",
    "from sklearn.metrics import confusion_matrix , classification_report #to evaluate performance of the classification problem\n",
    "from keras.models import Sequential#Allows you to build your model step by step\n",
    "from keras.layers import Conv2D,Flatten,Dense,MaxPooling2D,Dropout#support various in the model development\n",
    "import seaborn as sns#seaborn libray for visualization plots like line graphs , charts etc\n",
    "from sklearn.metrics import accuracy_score, precision_score, recall_score, f1_score\n",
    "from tensorflow.keras.models import Model#Allowsyou to create model using functional API\n",
    "from tensorflow.keras.preprocessing.text import Tokenizer\n",
    "#from tensorflow.keras.preprocessing.text import pad_sequence\n",
    "from tensorflow.keras.preprocessing.sequence import pad_sequences\n",
    "from tensorflow.keras.optimizers import Adam\n",
    "from tensorflow.keras.utils import to_categorical\n",
    "from tensorflow.keras.layers import Dense, Embedding, LSTM, SpatialDropout1D"
   ]
  },
  {
   "cell_type": "markdown",
   "id": "18e70fac",
   "metadata": {
    "id": "18e70fac"
   },
   "source": [
    "### Tokenizing and converting the reviews to numerical vectors"
   ]
  },
  {
   "cell_type": "code",
   "execution_count": 35,
   "id": "c2b2c6f3",
   "metadata": {
    "id": "c2b2c6f3"
   },
   "outputs": [],
   "source": [
    "tokenizer = Tokenizer(num_words = 700, split = ' ') #creating  vocbulary with 700words unique words\n",
    "tokenizer.fit_on_texts(new_data[\"Phrase\"].values)\n",
    "X = tokenizer.texts_to_sequences(new_data[\"Phrase\"].values) #converting text to sequence-sequences of integers,rep index of each\n",
    "#word in the original text\n",
    "X = pad_sequences(X, 100)"
   ]
  },
  {
   "cell_type": "code",
   "execution_count": 36,
   "id": "01a76ca0",
   "metadata": {
    "id": "01a76ca0"
   },
   "outputs": [],
   "source": [
    "import pickle\n",
    "with open(\"tokenizer.pkl\",\"wb\" ) as handle : #put ya directory path\n",
    "    pickle.dump(tokenizer, handle)"
   ]
  },
  {
   "cell_type": "markdown",
   "id": "0c310276",
   "metadata": {
    "id": "0c310276"
   },
   "source": [
    "#### Building the architecture"
   ]
  },
  {
   "cell_type": "code",
   "execution_count": null,
   "id": "f512fcee",
   "metadata": {
    "id": "f512fcee"
   },
   "outputs": [],
   "source": [
    "# model = Sequential()\n",
    "# model.add(Embedding(700, 120, input_length = 100))\n",
    "# model.add(SpatialDropout1D(0.2))\n",
    "# model.add(LSTM(150, dropout = 0.2, recurrent_dropout = 0.2))\n",
    "# model.add(Dense(2, activation = 'sigmoid'))\n",
    "# #compile the model\n",
    "# model.compile(loss = 'binary_crossentropy', optimizer = 'adam', metrics =['accuracy'] )"
   ]
  },
  {
   "cell_type": "code",
   "execution_count": 37,
   "id": "821ed9e7-e4f9-4f4c-8a61-1e470a0778f7",
   "metadata": {},
   "outputs": [
    {
     "name": "stdout",
     "output_type": "stream",
     "text": [
      "WARNING:tensorflow:From C:\\Users\\USER\\anaconda3\\envs\\nlp\\lib\\site-packages\\keras\\src\\backend.py:873: The name tf.get_default_graph is deprecated. Please use tf.compat.v1.get_default_graph instead.\n",
      "\n",
      "WARNING:tensorflow:From C:\\Users\\USER\\anaconda3\\envs\\nlp\\lib\\site-packages\\keras\\src\\optimizers\\__init__.py:309: The name tf.train.Optimizer is deprecated. Please use tf.compat.v1.train.Optimizer instead.\n",
      "\n"
     ]
    }
   ],
   "source": [
    "from keras.models import Sequential\n",
    "from keras.layers import Embedding, SpatialDropout1D, LSTM, Dense\n",
    "\n",
    "model = Sequential()\n",
    "\n",
    "# Embedding layer\n",
    "model.add(Embedding(input_dim=700, output_dim=120, input_length=100))\n",
    "\n",
    "# Spatial Dropout layer\n",
    "model.add(SpatialDropout1D(0.2))\n",
    "\n",
    "# LSTM layer with parameters set to be compatible with cuDNN\n",
    "model.add(LSTM(150, dropout=0.2, recurrent_dropout=0,\n",
    "               activation='tanh', recurrent_activation='sigmoid',\n",
    "               use_bias=True, unit_forget_bias=True))\n",
    "\n",
    "# Dense layer\n",
    "model.add(Dense(2, activation='sigmoid'))\n",
    "\n",
    "# Compile the model\n",
    "model.compile(loss='binary_crossentropy', optimizer='adam', metrics=['accuracy'])"
   ]
  },
  {
   "cell_type": "code",
   "execution_count": 38,
   "id": "ccd43318-f2e2-43e5-a856-38c89760f549",
   "metadata": {},
   "outputs": [],
   "source": [
    "new_data[\"Sentiment\"].replace(4, 1, inplace = True)"
   ]
  },
  {
   "cell_type": "code",
   "execution_count": 39,
   "id": "4a407668",
   "metadata": {
    "id": "4a407668"
   },
   "outputs": [],
   "source": [
    "#creating the target feature\n",
    "y = new_data[\"Sentiment\"]"
   ]
  },
  {
   "cell_type": "code",
   "execution_count": 40,
   "id": "fddcdde0",
   "metadata": {
    "id": "fddcdde0"
   },
   "outputs": [],
   "source": [
    "X_train, X_test, y_train, y_test = train_test_split(X, y, test_size= 0.1, random_state= 42)"
   ]
  },
  {
   "cell_type": "code",
   "execution_count": 41,
   "id": "cf901dfb",
   "metadata": {
    "id": "cf901dfb"
   },
   "outputs": [],
   "source": [
    "y_train_enc = to_categorical(y_train,2)\n",
    "y_test_enc = to_categorical(y_test,2)"
   ]
  },
  {
   "cell_type": "code",
   "execution_count": 42,
   "id": "77ee11d4",
   "metadata": {
    "id": "77ee11d4"
   },
   "outputs": [],
   "source": [
    "model_path = \"SentimentModel.h5\"\n",
    "es = EarlyStopping(patience=3, verbose=2, monitor=\"val_loss\")\n",
    "chkpt= ModelCheckpoint(model_path, verbose=2, save_best_only= True)"
   ]
  },
  {
   "cell_type": "code",
   "execution_count": 43,
   "id": "c406d54d",
   "metadata": {
    "id": "c406d54d"
   },
   "outputs": [
    {
     "data": {
      "text/plain": [
       "array([[0., 1.],\n",
       "       [1., 0.],\n",
       "       [1., 0.],\n",
       "       ...,\n",
       "       [1., 0.],\n",
       "       [0., 1.],\n",
       "       [1., 0.]], dtype=float32)"
      ]
     },
     "execution_count": 43,
     "metadata": {},
     "output_type": "execute_result"
    }
   ],
   "source": [
    "y_train_enc"
   ]
  },
  {
   "cell_type": "code",
   "execution_count": 44,
   "id": "858997c4",
   "metadata": {
    "id": "858997c4"
   },
   "outputs": [],
   "source": [
    "#clearing backend\n",
    "from tensorflow.keras import backend\n",
    "backend.clear_session()"
   ]
  },
  {
   "cell_type": "code",
   "execution_count": 45,
   "id": "e81d5bb6",
   "metadata": {
    "id": "e81d5bb6"
   },
   "outputs": [
    {
     "name": "stdout",
     "output_type": "stream",
     "text": [
      "Epoch 1/20\n",
      "WARNING:tensorflow:From C:\\Users\\USER\\anaconda3\\envs\\nlp\\lib\\site-packages\\keras\\src\\utils\\tf_utils.py:492: The name tf.ragged.RaggedTensorValue is deprecated. Please use tf.compat.v1.ragged.RaggedTensorValue instead.\n",
      "\n",
      "WARNING:tensorflow:From C:\\Users\\USER\\anaconda3\\envs\\nlp\\lib\\site-packages\\keras\\src\\engine\\base_layer_utils.py:384: The name tf.executing_eagerly_outside_functions is deprecated. Please use tf.compat.v1.executing_eagerly_outside_functions instead.\n",
      "\n",
      "413/413 [==============================] - ETA: 0s - loss: 0.4394 - accuracy: 0.7816\n",
      "Epoch 1: val_loss improved from inf to 0.31227, saving model to SentimentModel.h5\n"
     ]
    },
    {
     "name": "stderr",
     "output_type": "stream",
     "text": [
      "C:\\Users\\USER\\anaconda3\\envs\\nlp\\lib\\site-packages\\keras\\src\\engine\\training.py:3103: UserWarning: You are saving your model as an HDF5 file via `model.save()`. This file format is considered legacy. We recommend using instead the native Keras format, e.g. `model.save('my_model.keras')`.\n",
      "  saving_api.save_model(\n"
     ]
    },
    {
     "name": "stdout",
     "output_type": "stream",
     "text": [
      "413/413 [==============================] - 93s 198ms/step - loss: 0.4394 - accuracy: 0.7816 - val_loss: 0.3123 - val_accuracy: 0.8457\n",
      "Epoch 2/20\n",
      "413/413 [==============================] - ETA: 0s - loss: 0.3041 - accuracy: 0.8606\n",
      "Epoch 2: val_loss improved from 0.31227 to 0.29185, saving model to SentimentModel.h5\n",
      "413/413 [==============================] - 77s 187ms/step - loss: 0.3041 - accuracy: 0.8606 - val_loss: 0.2919 - val_accuracy: 0.8683\n",
      "Epoch 3/20\n",
      "413/413 [==============================] - ETA: 0s - loss: 0.2866 - accuracy: 0.8684\n",
      "Epoch 3: val_loss improved from 0.29185 to 0.28907, saving model to SentimentModel.h5\n",
      "413/413 [==============================] - 82s 200ms/step - loss: 0.2866 - accuracy: 0.8684 - val_loss: 0.2891 - val_accuracy: 0.8655\n",
      "Epoch 4/20\n",
      "413/413 [==============================] - ETA: 0s - loss: 0.2641 - accuracy: 0.8769\n",
      "Epoch 4: val_loss did not improve from 0.28907\n",
      "413/413 [==============================] - 77s 185ms/step - loss: 0.2641 - accuracy: 0.8769 - val_loss: 0.2961 - val_accuracy: 0.8628\n",
      "Epoch 5/20\n",
      "413/413 [==============================] - ETA: 0s - loss: 0.2522 - accuracy: 0.8823\n",
      "Epoch 5: val_loss improved from 0.28907 to 0.28801, saving model to SentimentModel.h5\n",
      "413/413 [==============================] - 81s 196ms/step - loss: 0.2522 - accuracy: 0.8823 - val_loss: 0.2880 - val_accuracy: 0.8696\n",
      "Epoch 6/20\n",
      "413/413 [==============================] - ETA: 0s - loss: 0.2379 - accuracy: 0.8893\n",
      "Epoch 6: val_loss did not improve from 0.28801\n",
      "413/413 [==============================] - 87s 211ms/step - loss: 0.2379 - accuracy: 0.8893 - val_loss: 0.2913 - val_accuracy: 0.8689\n",
      "Epoch 7/20\n",
      "413/413 [==============================] - ETA: 0s - loss: 0.2262 - accuracy: 0.8935\n",
      "Epoch 7: val_loss did not improve from 0.28801\n",
      "413/413 [==============================] - 85s 206ms/step - loss: 0.2262 - accuracy: 0.8935 - val_loss: 0.2925 - val_accuracy: 0.8683\n",
      "Epoch 8/20\n",
      "413/413 [==============================] - ETA: 0s - loss: 0.2153 - accuracy: 0.8987\n",
      "Epoch 8: val_loss did not improve from 0.28801\n",
      "413/413 [==============================] - 81s 196ms/step - loss: 0.2153 - accuracy: 0.8987 - val_loss: 0.3002 - val_accuracy: 0.8724\n",
      "Epoch 8: early stopping\n"
     ]
    }
   ],
   "source": [
    "#specifying the batchsize\n",
    "batch_size = 32\n",
    "#fitting the model\n",
    "his = model.fit(X_train, y_train_enc, epochs = 20, batch_size= batch_size, callbacks=[es, chkpt], verbose = 1,\n",
    "               validation_split= 0.1)"
   ]
  },
  {
   "cell_type": "code",
   "execution_count": null,
   "id": "cd01114b-c7c6-4683-b80e-9ea101b43a22",
   "metadata": {},
   "outputs": [],
   "source": []
  },
  {
   "cell_type": "code",
   "execution_count": null,
   "id": "c5da672a-8e47-475f-abc3-dd4a4c0d9957",
   "metadata": {},
   "outputs": [],
   "source": []
  }
 ],
 "metadata": {
  "colab": {
   "provenance": []
  },
  "kernelspec": {
   "display_name": "Python 3 (ipykernel)",
   "language": "python",
   "name": "python3"
  },
  "language_info": {
   "codemirror_mode": {
    "name": "ipython",
    "version": 3
   },
   "file_extension": ".py",
   "mimetype": "text/x-python",
   "name": "python",
   "nbconvert_exporter": "python",
   "pygments_lexer": "ipython3",
   "version": "3.9.19"
  }
 },
 "nbformat": 4,
 "nbformat_minor": 5
}
